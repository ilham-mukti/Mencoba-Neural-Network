{
  "nbformat": 4,
  "nbformat_minor": 0,
  "metadata": {
    "colab": {
      "name": "Mencoba Neural Network.ipynb",
      "provenance": [],
      "authorship_tag": "ABX9TyMZsjzQGvUXkvHI6h4OB/US",
      "include_colab_link": true
    },
    "kernelspec": {
      "name": "python3",
      "display_name": "Python 3"
    },
    "language_info": {
      "name": "python"
    }
  },
  "cells": [
    {
      "cell_type": "markdown",
      "metadata": {
        "id": "view-in-github",
        "colab_type": "text"
      },
      "source": [
        "<a href=\"https://colab.research.google.com/github/ilham-mukti/Mencoba-Neural-Network/blob/main/Mencoba_Neural_Network.ipynb\" target=\"_parent\"><img src=\"https://colab.research.google.com/assets/colab-badge.svg\" alt=\"Open In Colab\"/></a>"
      ]
    },
    {
      "cell_type": "code",
      "metadata": {
        "id": "5Gy23E-ieE7M"
      },
      "source": [
        "import torch\n",
        "from torch.utils.data import DataLoader, TensorDataset\n",
        "from torch import nn\n",
        "import numpy as np\n",
        "from sklearn.model_selection import train_test_split"
      ],
      "execution_count": 29,
      "outputs": []
    },
    {
      "cell_type": "code",
      "metadata": {
        "colab": {
          "base_uri": "https://localhost:8080/"
        },
        "id": "4ExUWouw-BMV",
        "outputId": "fc513aea-1568-41f0-e3d4-226ecc039b78"
      },
      "source": [
        "X = np.random.rand(500,4)\n",
        "y = np.random.rand(500,4)\n",
        "\n",
        "X_train, X_test, y_train, y_test = train_test_split(X, y, test_size=0.2, random_state=42)\n",
        "X_train.shape, X_test.shape"
      ],
      "execution_count": 3,
      "outputs": [
        {
          "output_type": "execute_result",
          "data": {
            "text/plain": [
              "((400, 4), (100, 4))"
            ]
          },
          "metadata": {
            "tags": []
          },
          "execution_count": 3
        }
      ]
    },
    {
      "cell_type": "markdown",
      "metadata": {
        "id": "YMSNlo7O-1pW"
      },
      "source": [
        "# **STEP 1: Dataset dan Dataloader**"
      ]
    },
    {
      "cell_type": "code",
      "metadata": {
        "id": "CPLdhebD-89G"
      },
      "source": [
        "X_train = torch.FloatTensor(X_train)\n",
        "X_test = torch.FloatTensor(X_test)\n",
        "y_train = torch.FloatTensor(y_train)\n",
        "y_test = torch.FloatTensor(y_test)"
      ],
      "execution_count": 7,
      "outputs": []
    },
    {
      "cell_type": "code",
      "metadata": {
        "id": "pCV8AKdp_LcW"
      },
      "source": [
        "train_dataset = TensorDataset(X_train, y_train)\n",
        "train_dataloader = DataLoader(train_dataset, batch_size=32, shuffle=True)\n",
        "\n",
        "test_dataset = TensorDataset(X_test, y_test)\n",
        "test_dataloader = DataLoader(test_dataset, batch_size=32)"
      ],
      "execution_count": 16,
      "outputs": []
    },
    {
      "cell_type": "code",
      "metadata": {
        "id": "vTfYu3ib_-oW"
      },
      "source": [
        "iterasi = iter(train_dataloader)\n",
        "iterasi.next()"
      ],
      "execution_count": null,
      "outputs": []
    },
    {
      "cell_type": "markdown",
      "metadata": {
        "id": "PfDGWsg4C_Jz"
      },
      "source": [
        "# **# STEP 2: BANGUN ARSITEKTUR**"
      ]
    },
    {
      "cell_type": "code",
      "metadata": {
        "id": "ZsXaVqw6CVUq"
      },
      "source": [
        "  nn.Sequential(\n",
        "      nn.Linear(4,3),\n",
        "      nn.ReLU(),\n",
        "      nn.Linear(3,4),\n",
        "      nn.ReLU(),\n",
        "      nn.Linear(4,3),\n",
        "      nn.Sigmoid()\n",
        "  )"
      ],
      "execution_count": null,
      "outputs": []
    },
    {
      "cell_type": "markdown",
      "metadata": {
        "id": "yKY2JGgiEpE8"
      },
      "source": [
        "#**#STEP 3: Training Preparation -> MCO**"
      ]
    },
    {
      "cell_type": "markdown",
      "metadata": {
        "id": "tVJMddTDE_MH"
      },
      "source": [
        "## **Model**"
      ]
    },
    {
      "cell_type": "code",
      "metadata": {
        "id": "LrflhsNSEv0R"
      },
      "source": [
        "  nn.Sequential(\n",
        "      nn.Linear(4,3),\n",
        "      nn.ReLU(),\n",
        "      nn.Linear(3,4),\n",
        "      nn.ReLU(),\n",
        "      nn.Linear(4,3),\n",
        "      nn.Sigmoid()\n",
        "  )"
      ],
      "execution_count": null,
      "outputs": []
    },
    {
      "cell_type": "markdown",
      "metadata": {
        "id": "zJHazuCSE9xR"
      },
      "source": [
        "## **Criterion** = Menghitung Loss"
      ]
    },
    {
      "cell_type": "code",
      "metadata": {
        "id": "6JyvAq_DFOV8"
      },
      "source": [
        "criterion = nn.MSELoss()"
      ],
      "execution_count": null,
      "outputs": []
    },
    {
      "cell_type": "markdown",
      "metadata": {
        "id": "GXiE0eSDFPGa"
      },
      "source": [
        "## **Optimizer**"
      ]
    },
    {
      "cell_type": "code",
      "metadata": {
        "id": "JbPmJoTRFSJ1"
      },
      "source": [
        ""
      ],
      "execution_count": null,
      "outputs": []
    },
    {
      "cell_type": "code",
      "metadata": {
        "id": "iMhDdHOGFSPk"
      },
      "source": [
        ""
      ],
      "execution_count": null,
      "outputs": []
    }
  ]
}