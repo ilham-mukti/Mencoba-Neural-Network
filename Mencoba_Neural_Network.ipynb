{
  "nbformat": 4,
  "nbformat_minor": 0,
  "metadata": {
    "colab": {
      "name": "Mencoba Neural Network.ipynb",
      "provenance": [],
      "authorship_tag": "ABX9TyPd+Au1hE0ClC3ivuyp38hH",
      "include_colab_link": true
    },
    "kernelspec": {
      "name": "python3",
      "display_name": "Python 3"
    },
    "language_info": {
      "name": "python"
    }
  },
  "cells": [
    {
      "cell_type": "markdown",
      "metadata": {
        "id": "view-in-github",
        "colab_type": "text"
      },
      "source": [
        "<a href=\"https://colab.research.google.com/github/ilham-mukti/Mencoba-Neural-Network/blob/main/Mencoba_Neural_Network.ipynb\" target=\"_parent\"><img src=\"https://colab.research.google.com/assets/colab-badge.svg\" alt=\"Open In Colab\"/></a>"
      ]
    },
    {
      "cell_type": "code",
      "metadata": {
        "id": "5Gy23E-ieE7M"
      },
      "source": [
        "import torch\n",
        "from torch.utils.data import DataLoader, TensorDataset\n",
        "from torch import nn\n",
        "from torch import optim\n",
        "import numpy as np\n",
        "from sklearn.model_selection import train_test_split"
      ],
      "execution_count": 34,
      "outputs": []
    },
    {
      "cell_type": "code",
      "metadata": {
        "colab": {
          "base_uri": "https://localhost:8080/"
        },
        "id": "4ExUWouw-BMV",
        "outputId": "3be5ef33-871c-4a41-d88c-147ec1d19917"
      },
      "source": [
        "X = np.random.rand(500,4)\n",
        "y = np.random.rand(500,3)\n",
        "\n",
        "X_train, X_test, y_train, y_test = train_test_split(X, y, test_size=0.2, random_state=42)\n",
        "X_train.shape, X_test.shape, y_train.shape, y_test.shape"
      ],
      "execution_count": 58,
      "outputs": [
        {
          "output_type": "execute_result",
          "data": {
            "text/plain": [
              "((400, 4), (100, 4), (400, 3), (100, 3))"
            ]
          },
          "metadata": {
            "tags": []
          },
          "execution_count": 58
        }
      ]
    },
    {
      "cell_type": "markdown",
      "metadata": {
        "id": "YMSNlo7O-1pW"
      },
      "source": [
        "# **STEP 1: Dataset dan Dataloader**"
      ]
    },
    {
      "cell_type": "code",
      "metadata": {
        "id": "CPLdhebD-89G"
      },
      "source": [
        "X_train = torch.FloatTensor(X_train)\n",
        "X_test = torch.FloatTensor(X_test)\n",
        "y_train = torch.FloatTensor(y_train)\n",
        "y_test = torch.FloatTensor(y_test)"
      ],
      "execution_count": 59,
      "outputs": []
    },
    {
      "cell_type": "code",
      "metadata": {
        "id": "pCV8AKdp_LcW"
      },
      "source": [
        "train_dataset = TensorDataset(X_train, y_train)\n",
        "train_dataloader = DataLoader(train_dataset, batch_size=32, shuffle=True)\n",
        "\n",
        "test_dataset = TensorDataset(X_test, y_test)\n",
        "test_dataloader = DataLoader(test_dataset, batch_size=32)"
      ],
      "execution_count": 60,
      "outputs": []
    },
    {
      "cell_type": "code",
      "metadata": {
        "colab": {
          "base_uri": "https://localhost:8080/"
        },
        "id": "vTfYu3ib_-oW",
        "outputId": "3b8a577a-0e89-4e28-a2c1-3e6dcd6a103f"
      },
      "source": [
        "iterasi = iter(train_dataloader)\n",
        "iterasi.next()"
      ],
      "execution_count": 61,
      "outputs": [
        {
          "output_type": "execute_result",
          "data": {
            "text/plain": [
              "[tensor([[0.1415, 0.6330, 0.1303, 0.7645],\n",
              "         [0.7272, 0.6966, 0.3516, 0.2675],\n",
              "         [0.6170, 0.3442, 0.6336, 0.2549],\n",
              "         [0.5903, 0.8618, 0.8181, 0.5751],\n",
              "         [0.1760, 0.9349, 0.8156, 0.6566],\n",
              "         [0.0739, 0.2031, 0.2821, 0.5062],\n",
              "         [0.8891, 0.0394, 0.0143, 0.4574],\n",
              "         [0.1546, 0.0561, 0.9121, 0.1563],\n",
              "         [0.5083, 0.2536, 0.2710, 0.5567],\n",
              "         [0.9243, 0.6770, 0.1650, 0.1107],\n",
              "         [0.9414, 0.9145, 0.9866, 0.3232],\n",
              "         [0.5516, 0.3549, 0.4593, 0.4821],\n",
              "         [0.0421, 0.3051, 0.3190, 0.1300],\n",
              "         [0.7126, 0.0379, 0.9287, 0.0755],\n",
              "         [0.3788, 0.4888, 0.8317, 0.5330],\n",
              "         [0.7387, 0.6510, 0.6159, 0.9833],\n",
              "         [0.9973, 0.9993, 0.2894, 0.1736],\n",
              "         [0.6424, 0.0717, 0.2657, 0.6909],\n",
              "         [0.5801, 0.4331, 0.7946, 0.8313],\n",
              "         [0.1868, 0.1285, 0.5155, 0.9205],\n",
              "         [0.4176, 0.3223, 0.2088, 0.4426],\n",
              "         [0.4346, 0.4867, 0.7460, 0.6151],\n",
              "         [0.9883, 0.0164, 0.0079, 0.7612],\n",
              "         [0.1744, 0.0809, 0.2733, 0.8535],\n",
              "         [0.0407, 0.1432, 0.1196, 0.4362],\n",
              "         [0.5964, 0.5642, 0.0313, 0.6866],\n",
              "         [0.5457, 0.9814, 0.0352, 0.5643],\n",
              "         [0.4205, 0.8484, 0.3439, 0.7230],\n",
              "         [0.1280, 0.8967, 0.5519, 0.7497],\n",
              "         [0.1351, 0.2644, 0.3121, 0.7332],\n",
              "         [0.9726, 0.1102, 0.2787, 0.7276],\n",
              "         [0.4254, 0.1000, 0.0538, 0.7854]]), tensor([[0.5899, 0.3607, 0.2749],\n",
              "         [0.5510, 0.7518, 0.5257],\n",
              "         [0.4259, 0.6282, 0.8324],\n",
              "         [0.2765, 0.7791, 0.7161],\n",
              "         [0.4766, 0.0163, 0.0998],\n",
              "         [0.4535, 0.7529, 0.5512],\n",
              "         [0.7523, 0.0907, 0.7978],\n",
              "         [0.9192, 0.0751, 0.6695],\n",
              "         [0.9224, 0.9944, 0.3012],\n",
              "         [0.9565, 0.6563, 0.8015],\n",
              "         [0.9943, 0.4251, 0.1820],\n",
              "         [0.1901, 0.3443, 0.1552],\n",
              "         [0.9890, 0.1092, 0.2219],\n",
              "         [0.4591, 0.4006, 0.7986],\n",
              "         [0.5595, 0.3974, 0.2813],\n",
              "         [0.4776, 0.4109, 0.0437],\n",
              "         [0.1439, 0.2733, 0.8857],\n",
              "         [0.6353, 0.1905, 0.7120],\n",
              "         [0.6393, 0.1474, 0.9726],\n",
              "         [0.0509, 0.6412, 0.9922],\n",
              "         [0.0942, 0.2321, 0.8953],\n",
              "         [0.4519, 0.3262, 0.3797],\n",
              "         [0.6123, 0.4660, 0.9119],\n",
              "         [0.5777, 0.9961, 0.6162],\n",
              "         [0.3298, 0.1980, 0.5871],\n",
              "         [0.6111, 0.5999, 0.8845],\n",
              "         [0.3122, 0.3855, 0.3991],\n",
              "         [0.4128, 0.7855, 0.2039],\n",
              "         [0.1042, 0.8270, 0.4385],\n",
              "         [0.9098, 0.4853, 0.9490],\n",
              "         [0.5678, 0.3516, 0.7214],\n",
              "         [0.2560, 0.5425, 0.9927]])]"
            ]
          },
          "metadata": {
            "tags": []
          },
          "execution_count": 61
        }
      ]
    },
    {
      "cell_type": "markdown",
      "metadata": {
        "id": "PfDGWsg4C_Jz"
      },
      "source": [
        "# **# STEP 2: BANGUN ARSITEKTUR**"
      ]
    },
    {
      "cell_type": "code",
      "metadata": {
        "colab": {
          "base_uri": "https://localhost:8080/"
        },
        "id": "ZsXaVqw6CVUq",
        "outputId": "7a3b023e-26b9-42f1-afb0-48767cf40e66"
      },
      "source": [
        "  nn.Sequential(\n",
        "      nn.Linear(4,3),\n",
        "      nn.ReLU(),\n",
        "      nn.Linear(3,4),\n",
        "      nn.ReLU(),\n",
        "      nn.Linear(4,3),\n",
        "      nn.Sigmoid()\n",
        "  )"
      ],
      "execution_count": 62,
      "outputs": [
        {
          "output_type": "execute_result",
          "data": {
            "text/plain": [
              "Sequential(\n",
              "  (0): Linear(in_features=4, out_features=3, bias=True)\n",
              "  (1): ReLU()\n",
              "  (2): Linear(in_features=3, out_features=4, bias=True)\n",
              "  (3): ReLU()\n",
              "  (4): Linear(in_features=4, out_features=3, bias=True)\n",
              "  (5): Sigmoid()\n",
              ")"
            ]
          },
          "metadata": {
            "tags": []
          },
          "execution_count": 62
        }
      ]
    },
    {
      "cell_type": "markdown",
      "metadata": {
        "id": "yKY2JGgiEpE8"
      },
      "source": [
        "#**#STEP 3: Training Preparation -> MCO**"
      ]
    },
    {
      "cell_type": "markdown",
      "metadata": {
        "id": "tVJMddTDE_MH"
      },
      "source": [
        "## **Model**"
      ]
    },
    {
      "cell_type": "code",
      "metadata": {
        "id": "LrflhsNSEv0R"
      },
      "source": [
        "  model = nn.Sequential(\n",
        "      nn.Linear(4,3),\n",
        "      nn.ReLU(),\n",
        "      nn.Linear(3,4),\n",
        "      nn.ReLU(),\n",
        "      nn.Linear(4,3),\n",
        "      nn.Sigmoid()\n",
        "  )"
      ],
      "execution_count": 63,
      "outputs": []
    },
    {
      "cell_type": "markdown",
      "metadata": {
        "id": "zJHazuCSE9xR"
      },
      "source": [
        "## **Criterion** = Menghitung Loss"
      ]
    },
    {
      "cell_type": "code",
      "metadata": {
        "id": "6JyvAq_DFOV8"
      },
      "source": [
        "#criterion = nn.MSELoss() #Model diakhiri Linear -> untuk regresi\n",
        "#criterion = nn.NLLLoss() #Model diakhiri Logsoftmax -> untuk multiclass classification\n",
        "criterion = nn.BCELoss() #Model diakhiri Sigmoid -> untuk multilabel/binary classification"
      ],
      "execution_count": 64,
      "outputs": []
    },
    {
      "cell_type": "markdown",
      "metadata": {
        "id": "GXiE0eSDFPGa"
      },
      "source": [
        "## **Optimizer**"
      ]
    },
    {
      "cell_type": "code",
      "metadata": {
        "id": "JbPmJoTRFSJ1"
      },
      "source": [
        "optimizer = optim.AdamW(model.parameters(), lr=0.001)"
      ],
      "execution_count": 65,
      "outputs": []
    },
    {
      "cell_type": "markdown",
      "metadata": {
        "id": "eacFfiNVYSQ3"
      },
      "source": [
        "# **#STEP 4: TRAINING LOOP**"
      ]
    },
    {
      "cell_type": "code",
      "metadata": {
        "colab": {
          "base_uri": "https://localhost:8080/"
        },
        "id": "bVyrhPZ9YWyG",
        "outputId": "b38aefd0-d154-4f2d-a22d-253e54941460"
      },
      "source": [
        "epochs = 500\n",
        "\n",
        "for i in range(epochs):\n",
        "  model.train()\n",
        "  for feature, target in train_dataloader:\n",
        "    output = model(feature) # feedforward\n",
        "    loss = criterion(output, target)\n",
        "    loss.backward() # backdrop\n",
        "\n",
        "    optimizer.step() # update weight\n",
        "    optimizer.zero_grad()\n",
        "  print(f\"\\rEpoch {i+1}/{epochs}\", end=' ')"
      ],
      "execution_count": 67,
      "outputs": [
        {
          "output_type": "stream",
          "text": [
            "Epoch 500/500 "
          ],
          "name": "stdout"
        }
      ]
    },
    {
      "cell_type": "code",
      "metadata": {
        "id": "m8COeOHeYjVQ"
      },
      "source": [
        ""
      ],
      "execution_count": null,
      "outputs": []
    }
  ]
}