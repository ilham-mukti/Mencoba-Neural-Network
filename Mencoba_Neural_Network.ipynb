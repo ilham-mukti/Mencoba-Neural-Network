{
  "nbformat": 4,
  "nbformat_minor": 0,
  "metadata": {
    "colab": {
      "name": "Mencoba Neural Network.ipynb",
      "provenance": [],
      "authorship_tag": "ABX9TyOxZJgEGgD1cmFyNSP1QXkY",
      "include_colab_link": true
    },
    "kernelspec": {
      "name": "python3",
      "display_name": "Python 3"
    },
    "language_info": {
      "name": "python"
    }
  },
  "cells": [
    {
      "cell_type": "markdown",
      "metadata": {
        "id": "view-in-github",
        "colab_type": "text"
      },
      "source": [
        "<a href=\"https://colab.research.google.com/github/ilham-mukti/Mencoba-Neural-Network/blob/main/Mencoba_Neural_Network.ipynb\" target=\"_parent\"><img src=\"https://colab.research.google.com/assets/colab-badge.svg\" alt=\"Open In Colab\"/></a>"
      ]
    },
    {
      "cell_type": "code",
      "metadata": {
        "id": "5Gy23E-ieE7M"
      },
      "source": [
        "import torch\n",
        "from torch.utils.data import DataLoader, TensorDataset\n",
        "from torch import nn\n",
        "from torch import optim\n",
        "import numpy as np\n",
        "from sklearn.model_selection import train_test_split"
      ],
      "execution_count": 34,
      "outputs": []
    },
    {
      "cell_type": "code",
      "metadata": {
        "colab": {
          "base_uri": "https://localhost:8080/"
        },
        "id": "4ExUWouw-BMV",
        "outputId": "fc513aea-1568-41f0-e3d4-226ecc039b78"
      },
      "source": [
        "X = np.random.rand(500,4)\n",
        "y = np.random.rand(500,4)\n",
        "\n",
        "X_train, X_test, y_train, y_test = train_test_split(X, y, test_size=0.2, random_state=42)\n",
        "X_train.shape, X_test.shape"
      ],
      "execution_count": 3,
      "outputs": [
        {
          "output_type": "execute_result",
          "data": {
            "text/plain": [
              "((400, 4), (100, 4))"
            ]
          },
          "metadata": {
            "tags": []
          },
          "execution_count": 3
        }
      ]
    },
    {
      "cell_type": "markdown",
      "metadata": {
        "id": "YMSNlo7O-1pW"
      },
      "source": [
        "# **STEP 1: Dataset dan Dataloader**"
      ]
    },
    {
      "cell_type": "code",
      "metadata": {
        "id": "CPLdhebD-89G"
      },
      "source": [
        "X_train = torch.FloatTensor(X_train)\n",
        "X_test = torch.FloatTensor(X_test)\n",
        "y_train = torch.FloatTensor(y_train)\n",
        "y_test = torch.FloatTensor(y_test)"
      ],
      "execution_count": 7,
      "outputs": []
    },
    {
      "cell_type": "code",
      "metadata": {
        "id": "pCV8AKdp_LcW"
      },
      "source": [
        "train_dataset = TensorDataset(X_train, y_train)\n",
        "train_dataloader = DataLoader(train_dataset, batch_size=32, shuffle=True)\n",
        "\n",
        "test_dataset = TensorDataset(X_test, y_test)\n",
        "test_dataloader = DataLoader(test_dataset, batch_size=32)"
      ],
      "execution_count": 16,
      "outputs": []
    },
    {
      "cell_type": "code",
      "metadata": {
        "id": "vTfYu3ib_-oW"
      },
      "source": [
        "iterasi = iter(train_dataloader)\n",
        "iterasi.next()"
      ],
      "execution_count": null,
      "outputs": []
    },
    {
      "cell_type": "markdown",
      "metadata": {
        "id": "PfDGWsg4C_Jz"
      },
      "source": [
        "# **# STEP 2: BANGUN ARSITEKTUR**"
      ]
    },
    {
      "cell_type": "code",
      "metadata": {
        "id": "ZsXaVqw6CVUq"
      },
      "source": [
        "  nn.Sequential(\n",
        "      nn.Linear(4,3),\n",
        "      nn.ReLU(),\n",
        "      nn.Linear(3,4),\n",
        "      nn.ReLU(),\n",
        "      nn.Linear(4,3),\n",
        "      nn.Sigmoid()\n",
        "  )"
      ],
      "execution_count": null,
      "outputs": []
    },
    {
      "cell_type": "markdown",
      "metadata": {
        "id": "yKY2JGgiEpE8"
      },
      "source": [
        "#**#STEP 3: Training Preparation -> MCO**"
      ]
    },
    {
      "cell_type": "markdown",
      "metadata": {
        "id": "tVJMddTDE_MH"
      },
      "source": [
        "## **Model**"
      ]
    },
    {
      "cell_type": "code",
      "metadata": {
        "colab": {
          "base_uri": "https://localhost:8080/"
        },
        "id": "LrflhsNSEv0R",
        "outputId": "2f426e40-a13f-41bd-a9bc-e743ffff5e74"
      },
      "source": [
        "  nn.Sequential(\n",
        "      nn.Linear(4,3),\n",
        "      nn.ReLU(),\n",
        "      nn.Linear(3,4),\n",
        "      nn.ReLU(),\n",
        "      nn.Linear(4,3),\n",
        "      nn.Sigmoid()\n",
        "  )"
      ],
      "execution_count": 33,
      "outputs": [
        {
          "output_type": "execute_result",
          "data": {
            "text/plain": [
              "Sequential(\n",
              "  (0): Linear(in_features=4, out_features=3, bias=True)\n",
              "  (1): ReLU()\n",
              "  (2): Linear(in_features=3, out_features=4, bias=True)\n",
              "  (3): ReLU()\n",
              "  (4): Linear(in_features=4, out_features=3, bias=True)\n",
              "  (5): Sigmoid()\n",
              ")"
            ]
          },
          "metadata": {
            "tags": []
          },
          "execution_count": 33
        }
      ]
    },
    {
      "cell_type": "markdown",
      "metadata": {
        "id": "zJHazuCSE9xR"
      },
      "source": [
        "## **Criterion** = Menghitung Loss"
      ]
    },
    {
      "cell_type": "code",
      "metadata": {
        "id": "6JyvAq_DFOV8"
      },
      "source": [
        "criterion = nn.MSELoss() #Model diakhiri Linear -> untuk regresi\n",
        "criterion = nn.NLLLoss() #Model diakhiri Logsoftmax -> untuk multiclass classification\n",
        "criterion = nn.BCELoss() #Model diakhiri Sigmoid -> untuk multilabel/binary classification"
      ],
      "execution_count": 32,
      "outputs": []
    },
    {
      "cell_type": "markdown",
      "metadata": {
        "id": "GXiE0eSDFPGa"
      },
      "source": [
        "## **Optimizer**"
      ]
    },
    {
      "cell_type": "code",
      "metadata": {
        "colab": {
          "base_uri": "https://localhost:8080/",
          "height": 164
        },
        "id": "JbPmJoTRFSJ1",
        "outputId": "5171e90a-7689-4262-f4bd-648b71193695"
      },
      "source": [
        "optimizer = optim.AdamW()"
      ],
      "execution_count": 35,
      "outputs": [
        {
          "output_type": "error",
          "ename": "TypeError",
          "evalue": "ignored",
          "traceback": [
            "\u001b[0;31m---------------------------------------------------------------------------\u001b[0m",
            "\u001b[0;31mTypeError\u001b[0m                                 Traceback (most recent call last)",
            "\u001b[0;32m<ipython-input-35-4c2534c0cba3>\u001b[0m in \u001b[0;36m<module>\u001b[0;34m()\u001b[0m\n\u001b[0;32m----> 1\u001b[0;31m \u001b[0moptimizer\u001b[0m \u001b[0;34m=\u001b[0m \u001b[0moptim\u001b[0m\u001b[0;34m.\u001b[0m\u001b[0mAdamW\u001b[0m\u001b[0;34m(\u001b[0m\u001b[0;34m)\u001b[0m\u001b[0;34m\u001b[0m\u001b[0;34m\u001b[0m\u001b[0m\n\u001b[0m",
            "\u001b[0;31mTypeError\u001b[0m: __init__() missing 1 required positional argument: 'params'"
          ]
        }
      ]
    },
    {
      "cell_type": "code",
      "metadata": {
        "id": "iMhDdHOGFSPk"
      },
      "source": [
        ""
      ],
      "execution_count": null,
      "outputs": []
    }
  ]
}