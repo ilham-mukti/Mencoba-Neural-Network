{
  "nbformat": 4,
  "nbformat_minor": 0,
  "metadata": {
    "colab": {
      "name": "Basic Neural Network.ipynb",
      "provenance": [],
      "authorship_tag": "ABX9TyMvkW2g38xqO7tyKERsShNm",
      "include_colab_link": true
    },
    "kernelspec": {
      "name": "python3",
      "display_name": "Python 3"
    },
    "language_info": {
      "name": "python"
    }
  },
  "cells": [
    {
      "cell_type": "markdown",
      "metadata": {
        "id": "view-in-github",
        "colab_type": "text"
      },
      "source": [
        "<a href=\"https://colab.research.google.com/github/ilham-mukti/Mencoba-Neural-Network/blob/main/Basic_Neural_Network.ipynb\" target=\"_parent\"><img src=\"https://colab.research.google.com/assets/colab-badge.svg\" alt=\"Open In Colab\"/></a>"
      ]
    },
    {
      "cell_type": "code",
      "metadata": {
        "id": "5Gy23E-ieE7M"
      },
      "source": [
        "import torch\n",
        "from torch.utils.data import DataLoader, TensorDataset\n",
        "from torch import nn\n",
        "from torch import optim\n",
        "import numpy as np\n",
        "from sklearn.model_selection import train_test_split"
      ],
      "execution_count": 34,
      "outputs": []
    },
    {
      "cell_type": "code",
      "metadata": {
        "colab": {
          "base_uri": "https://localhost:8080/"
        },
        "id": "4ExUWouw-BMV",
        "outputId": "e7fca644-ad7c-47f3-a8bf-bdc905b2bc6f"
      },
      "source": [
        "X = np.random.rand(500,4)\n",
        "y = np.random.rand(500,3)\n",
        "\n",
        "X_train, X_test, y_train, y_test = train_test_split(X, y, test_size=0.2, random_state=42)\n",
        "X_train.shape, X_test.shape, y_train.shape, y_test.shape"
      ],
      "execution_count": 75,
      "outputs": [
        {
          "output_type": "execute_result",
          "data": {
            "text/plain": [
              "((400, 4), (100, 4), (400, 3), (100, 3))"
            ]
          },
          "metadata": {
            "tags": []
          },
          "execution_count": 75
        }
      ]
    },
    {
      "cell_type": "markdown",
      "metadata": {
        "id": "YMSNlo7O-1pW"
      },
      "source": [
        "# **STEP 1: Dataset dan Dataloader**"
      ]
    },
    {
      "cell_type": "code",
      "metadata": {
        "id": "CPLdhebD-89G"
      },
      "source": [
        "X_train = torch.FloatTensor(X_train)\n",
        "X_test = torch.FloatTensor(X_test)\n",
        "y_train = torch.FloatTensor(y_train)\n",
        "y_test = torch.FloatTensor(y_test)"
      ],
      "execution_count": 76,
      "outputs": []
    },
    {
      "cell_type": "code",
      "metadata": {
        "id": "pCV8AKdp_LcW"
      },
      "source": [
        "train_dataset = TensorDataset(X_train, y_train)\n",
        "train_dataloader = DataLoader(train_dataset, batch_size=32, shuffle=True)\n",
        "\n",
        "test_dataset = TensorDataset(X_test, y_test)\n",
        "test_dataloader = DataLoader(test_dataset, batch_size=32)"
      ],
      "execution_count": 77,
      "outputs": []
    },
    {
      "cell_type": "code",
      "metadata": {
        "id": "vTfYu3ib_-oW"
      },
      "source": [
        "iterasi = iter(train_dataloader)\n",
        "iterasi.next()"
      ],
      "execution_count": null,
      "outputs": []
    },
    {
      "cell_type": "markdown",
      "metadata": {
        "id": "PfDGWsg4C_Jz"
      },
      "source": [
        "# **# STEP 2: BANGUN ARSITEKTUR**"
      ]
    },
    {
      "cell_type": "code",
      "metadata": {
        "colab": {
          "base_uri": "https://localhost:8080/"
        },
        "id": "ZsXaVqw6CVUq",
        "outputId": "2cce7e8d-02bc-42fb-acd6-b83b9bda6003"
      },
      "source": [
        "  nn.Sequential(\n",
        "      nn.Linear(4,3),\n",
        "      nn.ReLU(),\n",
        "      nn.Linear(3,4),\n",
        "      nn.ReLU(),\n",
        "      nn.Linear(4,3),\n",
        "      nn.Sigmoid()\n",
        "  )"
      ],
      "execution_count": 78,
      "outputs": [
        {
          "output_type": "execute_result",
          "data": {
            "text/plain": [
              "Sequential(\n",
              "  (0): Linear(in_features=4, out_features=3, bias=True)\n",
              "  (1): ReLU()\n",
              "  (2): Linear(in_features=3, out_features=4, bias=True)\n",
              "  (3): ReLU()\n",
              "  (4): Linear(in_features=4, out_features=3, bias=True)\n",
              "  (5): Sigmoid()\n",
              ")"
            ]
          },
          "metadata": {
            "tags": []
          },
          "execution_count": 78
        }
      ]
    },
    {
      "cell_type": "markdown",
      "metadata": {
        "id": "yKY2JGgiEpE8"
      },
      "source": [
        "#**#STEP 3: Training Preparation -> MCO**"
      ]
    },
    {
      "cell_type": "markdown",
      "metadata": {
        "id": "tVJMddTDE_MH"
      },
      "source": [
        "## **Model**"
      ]
    },
    {
      "cell_type": "code",
      "metadata": {
        "id": "LrflhsNSEv0R"
      },
      "source": [
        "  model = nn.Sequential(\n",
        "      nn.Linear(4,3),\n",
        "      nn.ReLU(),\n",
        "      nn.Linear(3,4),\n",
        "      nn.ReLU(),\n",
        "      nn.Linear(4,3),\n",
        "      nn.Sigmoid()\n",
        "  )"
      ],
      "execution_count": 79,
      "outputs": []
    },
    {
      "cell_type": "markdown",
      "metadata": {
        "id": "zJHazuCSE9xR"
      },
      "source": [
        "## **Criterion** = Menghitung Loss"
      ]
    },
    {
      "cell_type": "code",
      "metadata": {
        "id": "6JyvAq_DFOV8"
      },
      "source": [
        "#criterion = nn.MSELoss() #Model diakhiri Linear -> untuk regresi\n",
        "#criterion = nn.NLLLoss() #Model diakhiri Logsoftmax -> untuk multiclass classification\n",
        "criterion = nn.BCELoss() #Model diakhiri Sigmoid -> untuk multilabel/binary classification"
      ],
      "execution_count": 80,
      "outputs": []
    },
    {
      "cell_type": "markdown",
      "metadata": {
        "id": "GXiE0eSDFPGa"
      },
      "source": [
        "## **Optimizer**"
      ]
    },
    {
      "cell_type": "code",
      "metadata": {
        "id": "JbPmJoTRFSJ1"
      },
      "source": [
        "optimizer = optim.AdamW(model.parameters(), lr=0.001)"
      ],
      "execution_count": 81,
      "outputs": []
    },
    {
      "cell_type": "markdown",
      "metadata": {
        "id": "eacFfiNVYSQ3"
      },
      "source": [
        "# **#STEP 4: TRAINING LOOP**"
      ]
    },
    {
      "cell_type": "code",
      "metadata": {
        "colab": {
          "base_uri": "https://localhost:8080/"
        },
        "id": "bVyrhPZ9YWyG",
        "outputId": "b38aefd0-d154-4f2d-a22d-253e54941460"
      },
      "source": [
        "epochs = 500\n",
        "\n",
        "for i in range(epochs):\n",
        "  model.train()\n",
        "  for feature, target in train_dataloader:\n",
        "    output = model(feature) # feedforward\n",
        "    loss = criterion(output, target)\n",
        "    loss.backward() # backdrop\n",
        "\n",
        "    optimizer.step() # update weight\n",
        "    optimizer.zero_grad()\n",
        "  print(f\"\\rEpoch {i+1}/{epochs}\", end=' ')"
      ],
      "execution_count": 67,
      "outputs": [
        {
          "output_type": "stream",
          "text": [
            "Epoch 500/500 "
          ],
          "name": "stdout"
        }
      ]
    },
    {
      "cell_type": "code",
      "metadata": {
        "colab": {
          "base_uri": "https://localhost:8080/"
        },
        "id": "m8COeOHeYjVQ",
        "outputId": "101e4999-84a8-45f3-e2f0-2978d3ed0684"
      },
      "source": [
        "epochs = 500\n",
        "train_cost = []\n",
        "\n",
        "for i in range(epochs):\n",
        "  model.train()\n",
        "  cost = 0\n",
        "  for feature, target in train_dataloader:\n",
        "    output = model(feature) # feedforward\n",
        "    loss = criterion(output, target)\n",
        "    loss.backward() # backdrop\n",
        "\n",
        "    optimizer.step() # update weight\n",
        "    optimizer.zero_grad()\n",
        "\n",
        "    cost += loss.item() * feature.shape[0]\n",
        "  train_cost.append(cost/len(train_dataset))\n",
        "\n",
        "  print(f\"\\rEpoch {i+1}/{epochs} | train_cost: {train_cost[-1]:.4f}\", end=' ')"
      ],
      "execution_count": 82,
      "outputs": [
        {
          "output_type": "stream",
          "text": [
            "Epoch 500/500 | train_cost: 0.6887 "
          ],
          "name": "stdout"
        }
      ]
    },
    {
      "cell_type": "code",
      "metadata": {
        "id": "771ytZyLdyLr"
      },
      "source": [
        ""
      ],
      "execution_count": null,
      "outputs": []
    }
  ]
}